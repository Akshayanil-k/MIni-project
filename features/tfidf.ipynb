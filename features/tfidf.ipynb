{
 "cells": [
  {
   "cell_type": "code",
   "execution_count": 1,
   "id": "1efe3b4f",
   "metadata": {},
   "outputs": [],
   "source": [
    "from sklearn.feature_extraction.text import TfidfVectorizer"
   ]
  },
  {
   "cell_type": "code",
   "execution_count": 2,
   "id": "ebd153ca",
   "metadata": {},
   "outputs": [],
   "source": [
    "tfidf =TfidfVectorizer()\n",
    "doc_1=\"china phone elarum eduth upp velathil mukki iduka broo\"\n",
    "doc_2=\"Angana parayalle broo\""
   ]
  },
  {
   "cell_type": "code",
   "execution_count": 3,
   "id": "a194ba5a",
   "metadata": {},
   "outputs": [],
   "source": [
    "response=tfidf.fit_transform([doc_1,doc_2])"
   ]
  },
  {
   "cell_type": "code",
   "execution_count": 4,
   "id": "023bd739",
   "metadata": {},
   "outputs": [
    {
     "name": "stdout",
     "output_type": "stream",
     "text": [
      "11\n"
     ]
    }
   ],
   "source": [
    "print(len(tfidf.vocabulary_))"
   ]
  },
  {
   "cell_type": "code",
   "execution_count": 5,
   "id": "b301f817",
   "metadata": {},
   "outputs": [
    {
     "data": {
      "text/plain": [
       "{'china': 2,\n",
       " 'phone': 8,\n",
       " 'elarum': 4,\n",
       " 'eduth': 3,\n",
       " 'upp': 9,\n",
       " 'velathil': 10,\n",
       " 'mukki': 6,\n",
       " 'iduka': 5,\n",
       " 'broo': 1,\n",
       " 'angana': 0,\n",
       " 'parayalle': 7}"
      ]
     },
     "execution_count": 5,
     "metadata": {},
     "output_type": "execute_result"
    }
   ],
   "source": [
    "tfidf.vocabulary_"
   ]
  },
  {
   "cell_type": "code",
   "execution_count": 6,
   "id": "fdc6642f",
   "metadata": {},
   "outputs": [
    {
     "name": "stdout",
     "output_type": "stream",
     "text": [
      "  (0, 1)\t0.24395572500006343\n",
      "  (0, 5)\t0.3428712594108198\n",
      "  (0, 6)\t0.3428712594108198\n",
      "  (0, 10)\t0.3428712594108198\n",
      "  (0, 9)\t0.3428712594108198\n",
      "  (0, 3)\t0.3428712594108198\n",
      "  (0, 4)\t0.3428712594108198\n",
      "  (0, 8)\t0.3428712594108198\n",
      "  (0, 2)\t0.3428712594108198\n",
      "  (1, 7)\t0.6316672017376245\n",
      "  (1, 0)\t0.6316672017376245\n",
      "  (1, 1)\t0.4494364165239821\n"
     ]
    }
   ],
   "source": [
    "print(response)"
   ]
  },
  {
   "cell_type": "code",
   "execution_count": null,
   "id": "5b4245d7",
   "metadata": {},
   "outputs": [],
   "source": []
  }
 ],
 "metadata": {
  "kernelspec": {
   "display_name": "Python 3 (ipykernel)",
   "language": "python",
   "name": "python3"
  },
  "language_info": {
   "codemirror_mode": {
    "name": "ipython",
    "version": 3
   },
   "file_extension": ".py",
   "mimetype": "text/x-python",
   "name": "python",
   "nbconvert_exporter": "python",
   "pygments_lexer": "ipython3",
   "version": "3.9.7"
  }
 },
 "nbformat": 4,
 "nbformat_minor": 5
}
