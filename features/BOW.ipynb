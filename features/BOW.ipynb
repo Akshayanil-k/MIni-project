{
 "cells": [
  {
   "cell_type": "code",
   "execution_count": 18,
   "id": "1ce60bed",
   "metadata": {},
   "outputs": [],
   "source": [
    "phrases =[\"Nanbaa ungaloda problem enakku puriyuthu\",\n",
    "          \"Jeevitham avasanikkunnathuvare randuperum santhoshamay kazhiyatte ennu athmardhamayittu agrahikkunnu\"]"
   ]
  },
  {
   "cell_type": "code",
   "execution_count": 19,
   "id": "2ba6193e",
   "metadata": {},
   "outputs": [],
   "source": [
    "from sklearn.feature_extraction.text import CountVectorizer\n"
   ]
  },
  {
   "cell_type": "code",
   "execution_count": 20,
   "id": "d6e8796e",
   "metadata": {},
   "outputs": [],
   "source": [
    "#vect =CountVectorizer()\n",
    "#vect.fit(phrases)"
   ]
  },
  {
   "cell_type": "code",
   "execution_count": 21,
   "id": "62e3cb46",
   "metadata": {},
   "outputs": [
    {
     "name": "stdout",
     "output_type": "stream",
     "text": [
      "Vocabulary size: 13\n",
      "Vocabulary content:\n",
      " {'nanbaa': 7, 'ungaloda': 12, 'problem': 8, 'enakku': 3, 'puriyuthu': 9, 'jeevitham': 5, 'avasanikkunnathuvare': 2, 'randuperum': 10, 'santhoshamay': 11, 'kazhiyatte': 6, 'ennu': 4, 'athmardhamayittu': 1, 'agrahikkunnu': 0}\n"
     ]
    }
   ],
   "source": [
    "print(\"Vocabulary size: {}\" .format(len(vect.vocabulary_)))\n",
    "print(\"Vocabulary content:\\n {}\" .format(vect.vocabulary_))"
   ]
  },
  {
   "cell_type": "code",
   "execution_count": 22,
   "id": "5290ce67",
   "metadata": {},
   "outputs": [],
   "source": [
    "bag_of_words =vect.transform(phrases)"
   ]
  },
  {
   "cell_type": "code",
   "execution_count": 23,
   "id": "941c018e",
   "metadata": {},
   "outputs": [
    {
     "name": "stdout",
     "output_type": "stream",
     "text": [
      "  (0, 3)\t1\n",
      "  (0, 7)\t1\n",
      "  (0, 8)\t1\n",
      "  (0, 9)\t1\n",
      "  (0, 12)\t1\n",
      "  (1, 0)\t1\n",
      "  (1, 1)\t1\n",
      "  (1, 2)\t1\n",
      "  (1, 4)\t1\n",
      "  (1, 5)\t1\n",
      "  (1, 6)\t1\n",
      "  (1, 10)\t1\n",
      "  (1, 11)\t1\n"
     ]
    }
   ],
   "source": [
    "print(bag_of_words)"
   ]
  },
  {
   "cell_type": "code",
   "execution_count": 17,
   "id": "5845d886",
   "metadata": {},
   "outputs": [
    {
     "name": "stdout",
     "output_type": "stream",
     "text": [
      "bag_of_words as an array:\n",
      "[[0 0 0 1 0 0 0 1 1 1 0 0 1]\n",
      " [1 1 1 0 1 1 1 0 0 0 1 1 0]]\n"
     ]
    }
   ],
   "source": [
    "print(\"bag_of_words as an array:\\n{}\".format(bag_of_words.toarray()))"
   ]
  },
  {
   "cell_type": "code",
   "execution_count": null,
   "id": "11516ffa",
   "metadata": {},
   "outputs": [],
   "source": []
  }
 ],
 "metadata": {
  "kernelspec": {
   "display_name": "Python 3 (ipykernel)",
   "language": "python",
   "name": "python3"
  },
  "language_info": {
   "codemirror_mode": {
    "name": "ipython",
    "version": 3
   },
   "file_extension": ".py",
   "mimetype": "text/x-python",
   "name": "python",
   "nbconvert_exporter": "python",
   "pygments_lexer": "ipython3",
   "version": "3.9.7"
  }
 },
 "nbformat": 4,
 "nbformat_minor": 5
}
