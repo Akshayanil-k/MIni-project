{
 "cells": [
  {
   "cell_type": "code",
   "execution_count": 1,
   "id": "e78077e0",
   "metadata": {},
   "outputs": [
    {
     "name": "stdout",
     "output_type": "stream",
     "text": [
      "{'iyalkokke poy': 3, 'poy chathudd': 4, 'this is': 5, 'is adutha': 2, 'adutha sentence': 0, 'im tik': 1, 'tik tok': 6, 'tok virodhi': 7}\n",
      "['adutha sentence', 'im tik', 'is adutha', 'iyalkokke poy', 'poy chathudd', 'this is', 'tik tok', 'tok virodhi']\n",
      "(3, 8)\n",
      "[[0 0 0 1 1 0 0 0]\n",
      " [1 0 1 0 0 1 0 0]\n",
      " [0 1 0 0 0 0 1 1]]\n"
     ]
    }
   ],
   "source": [
    "from sklearn.feature_extraction.text import CountVectorizer\n",
    "cv = CountVectorizer(ngram_range=(2,2))\n",
    "\n",
    "corpus = [\"Iyalkokke poy chathudd \",\n",
    "          \"This is adutha sentence\",\n",
    "          \"Im a tik tok virodhi\"]\n",
    "X=cv.fit(corpus)\n",
    "print(X.vocabulary_)\n",
    "print(cv.get_feature_names())\n",
    "\n",
    "X=cv.transform(corpus)\n",
    "X=cv.fit_transform(corpus)\n",
    "print(X.shape)\n",
    "print(X.toarray())"
   ]
  },
  {
   "cell_type": "code",
   "execution_count": null,
   "id": "b5a5f7d5",
   "metadata": {},
   "outputs": [],
   "source": []
  }
 ],
 "metadata": {
  "kernelspec": {
   "display_name": "Python 3 (ipykernel)",
   "language": "python",
   "name": "python3"
  },
  "language_info": {
   "codemirror_mode": {
    "name": "ipython",
    "version": 3
   },
   "file_extension": ".py",
   "mimetype": "text/x-python",
   "name": "python",
   "nbconvert_exporter": "python",
   "pygments_lexer": "ipython3",
   "version": "3.9.7"
  }
 },
 "nbformat": 4,
 "nbformat_minor": 5
}
