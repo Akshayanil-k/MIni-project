{
 "cells": [
  {
   "cell_type": "code",
   "execution_count": 1,
   "id": "6d4da06b",
   "metadata": {},
   "outputs": [
    {
     "name": "stdout",
     "output_type": "stream",
     "text": [
      "(3, 8)\n",
      "  (0, 3)\t1\n",
      "  (0, 4)\t1\n",
      "  (1, 5)\t1\n",
      "  (1, 2)\t1\n",
      "  (1, 0)\t1\n",
      "  (2, 1)\t1\n",
      "  (2, 6)\t1\n",
      "  (2, 7)\t1\n",
      "[[0 0 0 1 1 0 0 0]\n",
      " [1 0 1 0 0 1 0 0]\n",
      " [0 1 0 0 0 0 1 1]]\n",
      "   adutha sentence  im tik  is adutha  iyalkokke poy  poy chathudd  this is  \\\n",
      "0                0       0          0              1             1        0   \n",
      "1                1       0          1              0             0        1   \n",
      "2                0       1          0              0             0        0   \n",
      "\n",
      "   tik tok  tok virodhi  \n",
      "0        0            0  \n",
      "1        0            0  \n",
      "2        1            1  \n"
     ]
    }
   ],
   "source": [
    "import pandas as pd\n",
    "from sklearn.feature_extraction.text import CountVectorizer\n",
    "cv = CountVectorizer(ngram_range=(2,2))\n",
    "\n",
    "corpus = [\"Iyalkokke poy chathudd \",\n",
    "          \"This is adutha sentence\",\n",
    "          \"Im a tik tok virodhi\"]\n",
    "\n",
    "\n",
    "#X =cv.fit_transform(corpus)\n",
    "X = cv.fit_transform(corpus)\n",
    "print(X.shape)\n",
    "print(X)\n",
    "print(X.toarray())\n",
    "\n",
    "df = pd.DataFrame(X.toarray(), columns = cv.get_feature_names())\n",
    "print(df)\n"
   ]
  },
  {
   "cell_type": "code",
   "execution_count": null,
   "id": "67b3114e",
   "metadata": {},
   "outputs": [],
   "source": []
  }
 ],
 "metadata": {
  "kernelspec": {
   "display_name": "Python 3 (ipykernel)",
   "language": "python",
   "name": "python3"
  },
  "language_info": {
   "codemirror_mode": {
    "name": "ipython",
    "version": 3
   },
   "file_extension": ".py",
   "mimetype": "text/x-python",
   "name": "python",
   "nbconvert_exporter": "python",
   "pygments_lexer": "ipython3",
   "version": "3.9.7"
  }
 },
 "nbformat": 4,
 "nbformat_minor": 5
}
